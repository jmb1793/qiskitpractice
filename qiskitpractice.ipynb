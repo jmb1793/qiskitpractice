{
  "nbformat": 4,
  "nbformat_minor": 0,
  "metadata": {
    "kernelspec": {
      "display_name": "Python 3",
      "language": "python",
      "name": "python3"
    },
    "language_info": {
      "codemirror_mode": {
        "name": "ipython",
        "version": 3
      },
      "file_extension": ".py",
      "mimetype": "text/x-python",
      "name": "python",
      "nbconvert_exporter": "python",
      "pygments_lexer": "ipython3",
      "version": "3.8.5"
    },
    "colab": {
      "name": "qiskitpractice.ipynb",
      "provenance": [],
      "include_colab_link": true
    }
  },
  "cells": [
    {
      "cell_type": "markdown",
      "metadata": {
        "id": "view-in-github",
        "colab_type": "text"
      },
      "source": [
        "<a href=\"https://colab.research.google.com/github/jmb1793/qiskitpractice/blob/main/qiskitpractice.ipynb\" target=\"_parent\"><img src=\"https://colab.research.google.com/assets/colab-badge.svg\" alt=\"Open In Colab\"/></a>"
      ]
    },
    {
      "cell_type": "code",
      "metadata": {
        "colab": {
          "base_uri": "https://localhost:8080/"
        },
        "id": "UaGKXkx013y9",
        "outputId": "4454bbf0-15af-4624-d65e-e2c023c03b09"
      },
      "source": [
        "import qiskit\n",
        "print(qiskit.__version__)\n",
        "\n",
        "print(qiskit.__qiskit_version__)"
      ],
      "execution_count": 6,
      "outputs": [
        {
          "output_type": "stream",
          "text": [
            "0.17.0\n",
            "{'qiskit-terra': '0.17.0', 'qiskit-aer': '0.8.0', 'qiskit-ignis': '0.6.0', 'qiskit-ibmq-provider': '0.12.2', 'qiskit-aqua': '0.9.0', 'qiskit': None}\n"
          ],
          "name": "stdout"
        }
      ]
    },
    {
      "cell_type": "code",
      "metadata": {
        "colab": {
          "base_uri": "https://localhost:8080/",
          "height": 156
        },
        "id": "SdmyRmLr13zs",
        "outputId": "b0652eb5-6832-4053-c53b-7c401b2a8efd"
      },
      "source": [
        "import numpy as np\n",
        "from qiskit import(\n",
        "  QuantumCircuit,\n",
        "  execute,\n",
        "  Aer)\n",
        "from qiskit.visualization import plot_histogram\n",
        "\n",
        "# Use Aer's qasm_simulator\n",
        "simulator = Aer.get_backend('qasm_simulator')\n",
        "\n",
        "# Create a Quantum Circuit acting on the q register\n",
        "circuit = QuantumCircuit(2, 2)\n",
        "\n",
        "# Add a H gate on qubit 0\n",
        "circuit.h(0)\n",
        "\n",
        "# Add a CX (CNOT) gate on control qubit 0 and target qubit 1\n",
        "circuit.cx(0, 1)\n",
        "\n",
        "# Map the quantum measurement to the classical bits\n",
        "circuit.measure([0,1], [0,1])\n",
        "\n",
        "# Execute the circuit on the qasm simulator\n",
        "job = execute(circuit, simulator, shots=1000)\n",
        "\n",
        "# Grab results from the job\n",
        "result = job.result()\n",
        "\n",
        "# Returns counts\n",
        "counts = result.get_counts(circuit)\n",
        "print(\"\\nTotal count for 00 and 11 are:\",counts)\n",
        "\n",
        "# Draw the circuit\n",
        "circuit.draw()"
      ],
      "execution_count": 7,
      "outputs": [
        {
          "output_type": "stream",
          "text": [
            "\n",
            "Total count for 00 and 11 are: {'11': 508, '00': 492}\n"
          ],
          "name": "stdout"
        },
        {
          "output_type": "execute_result",
          "data": {
            "text/html": [
              "<pre style=\"word-wrap: normal;white-space: pre;background: #fff0;line-height: 1.1;font-family: &quot;Courier New&quot;,Courier,monospace\">     ┌───┐     ┌─┐   \n",
              "q_0: ┤ H ├──■──┤M├───\n",
              "     └───┘┌─┴─┐└╥┘┌─┐\n",
              "q_1: ─────┤ X ├─╫─┤M├\n",
              "          └───┘ ║ └╥┘\n",
              "c: 2/═══════════╩══╩═\n",
              "                0  1 </pre>"
            ],
            "text/plain": [
              "     ┌───┐     ┌─┐   \n",
              "q_0: ┤ H ├──■──┤M├───\n",
              "     └───┘┌─┴─┐└╥┘┌─┐\n",
              "q_1: ─────┤ X ├─╫─┤M├\n",
              "          └───┘ ║ └╥┘\n",
              "c: 2/═══════════╩══╩═\n",
              "                0  1 "
            ]
          },
          "metadata": {
            "tags": []
          },
          "execution_count": 7
        }
      ]
    },
    {
      "cell_type": "code",
      "metadata": {
        "colab": {
          "base_uri": "https://localhost:8080/",
          "height": 332
        },
        "id": "2WZxQ-sa13zy",
        "outputId": "f1eb47fb-b83b-4968-bd50-099495aeb3a3"
      },
      "source": [
        "plot_histogram(counts)"
      ],
      "execution_count": 8,
      "outputs": [
        {
          "output_type": "execute_result",
          "data": {
            "image/png": "[encoded data removed]",
            "text/plain": [
              "<Figure size 504x360 with 1 Axes>"
            ]
          },
          "metadata": {
            "tags": []
          },
          "execution_count": 8
        }
      ]
    },
    {
      "cell_type": "code",
      "metadata": {
        "colab": {
          "base_uri": "https://localhost:8080/",
          "height": 302
        },
        "id": "aka1KB0n13z3",
        "outputId": "6def4e02-fd2a-47a6-c4bf-32d76d1caf08"
      },
      "source": [
        "n = 8\n",
        "n_q = n\n",
        "n_b = n\n",
        "qc_output = QuantumCircuit(n_q,n_b)\n",
        "\n",
        "for j in range(n):\n",
        "    qc_output.measure(j,j)\n",
        "    \n",
        "qc_output.draw()"
      ],
      "execution_count": 9,
      "outputs": [
        {
          "output_type": "execute_result",
          "data": {
            "text/html": [
              "<pre style=\"word-wrap: normal;white-space: pre;background: #fff0;line-height: 1.1;font-family: &quot;Courier New&quot;,Courier,monospace\">     ┌─┐                     \n",
              "q_0: ┤M├─────────────────────\n",
              "     └╥┘┌─┐                  \n",
              "q_1: ─╫─┤M├──────────────────\n",
              "      ║ └╥┘┌─┐               \n",
              "q_2: ─╫──╫─┤M├───────────────\n",
              "      ║  ║ └╥┘┌─┐            \n",
              "q_3: ─╫──╫──╫─┤M├────────────\n",
              "      ║  ║  ║ └╥┘┌─┐         \n",
              "q_4: ─╫──╫──╫──╫─┤M├─────────\n",
              "      ║  ║  ║  ║ └╥┘┌─┐      \n",
              "q_5: ─╫──╫──╫──╫──╫─┤M├──────\n",
              "      ║  ║  ║  ║  ║ └╥┘┌─┐   \n",
              "q_6: ─╫──╫──╫──╫──╫──╫─┤M├───\n",
              "      ║  ║  ║  ║  ║  ║ └╥┘┌─┐\n",
              "q_7: ─╫──╫──╫──╫──╫──╫──╫─┤M├\n",
              "      ║  ║  ║  ║  ║  ║  ║ └╥┘\n",
              "c: 8/═╩══╩══╩══╩══╩══╩══╩══╩═\n",
              "      0  1  2  3  4  5  6  7 </pre>"
            ],
            "text/plain": [
              "     ┌─┐                     \n",
              "q_0: ┤M├─────────────────────\n",
              "     └╥┘┌─┐                  \n",
              "q_1: ─╫─┤M├──────────────────\n",
              "      ║ └╥┘┌─┐               \n",
              "q_2: ─╫──╫─┤M├───────────────\n",
              "      ║  ║ └╥┘┌─┐            \n",
              "q_3: ─╫──╫──╫─┤M├────────────\n",
              "      ║  ║  ║ └╥┘┌─┐         \n",
              "q_4: ─╫──╫──╫──╫─┤M├─────────\n",
              "      ║  ║  ║  ║ └╥┘┌─┐      \n",
              "q_5: ─╫──╫──╫──╫──╫─┤M├──────\n",
              "      ║  ║  ║  ║  ║ └╥┘┌─┐   \n",
              "q_6: ─╫──╫──╫──╫──╫──╫─┤M├───\n",
              "      ║  ║  ║  ║  ║  ║ └╥┘┌─┐\n",
              "q_7: ─╫──╫──╫──╫──╫──╫──╫─┤M├\n",
              "      ║  ║  ║  ║  ║  ║  ║ └╥┘\n",
              "c: 8/═╩══╩══╩══╩══╩══╩══╩══╩═\n",
              "      0  1  2  3  4  5  6  7 "
            ]
          },
          "metadata": {
            "tags": []
          },
          "execution_count": 9
        }
      ]
    },
    {
      "cell_type": "code",
      "metadata": {
        "colab": {
          "base_uri": "https://localhost:8080/",
          "height": 380
        },
        "id": "OffQbieg13z6",
        "outputId": "4c83f10c-3eb2-46bd-b438-bb87f55865b0"
      },
      "source": [
        "counts = execute(qc_output,Aer.get_backend('qasm_simulator')).result().get_counts()\n",
        "plot_histogram(counts)"
      ],
      "execution_count": 10,
      "outputs": [
        {
          "output_type": "execute_result",
          "data": {
            "image/png": "[encoded data removed]",
            "text/plain": [
              "<Figure size 504x360 with 1 Axes>"
            ]
          },
          "metadata": {
            "tags": []
          },
          "execution_count": 10
        }
      ]
    },
    {
      "cell_type": "code",
      "metadata": {
        "id": "XP7cCKC_13z-"
      },
      "source": [
        ""
      ],
      "execution_count": null,
      "outputs": []
    },
    {
      "cell_type": "code",
      "metadata": {
        "id": "-gHyZcBw130A"
      },
      "source": [
        ""
      ],
      "execution_count": null,
      "outputs": []
    }
  ]
}